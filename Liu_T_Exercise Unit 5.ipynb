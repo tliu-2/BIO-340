{
 "cells": [
  {
   "cell_type": "code",
   "execution_count": null,
   "outputs": [],
   "source": [
    "from numpy import full\n",
    "\n",
    "#build an array of zeroes\n",
    "seq1 = \"GCATGCT\"\n",
    "seq2 = \"GATACCA\"\n",
    "\n",
    "n_rows = len(\"-\"+seq1)\n",
    "n_columns = len(\"-\"+seq2)\n",
    "\n",
    "scoring_array = full([n_rows,n_columns],0)\n",
    "print(\"Scoring array:\\n\",scoring_array)\n",
    "\n",
    "traceback_array = full([n_rows,n_columns],\"-\")\n",
    "print(\"Traceback array:\\n\",traceback_array)"
   ],
   "metadata": {
    "collapsed": false,
    "pycharm": {
     "name": "#%%\n"
    }
   }
  },
  {
   "cell_type": "code",
   "execution_count": null,
   "outputs": [],
   "source": [
    "from IPython.core.display import HTML,display\n",
    "import pandas as pd\n",
    "\n",
    "def pretty_table_from_array(data_array, row_labels, col_labels):\n",
    "    \"\"\"Show an HTML table from a 2d numpy array\"\"\"\n",
    "    df = pd.DataFrame(data_array,index=row_labels,columns=col_labels)\n",
    "    table_html = df.to_html()\n",
    "    return HTML(table_html)\n",
    "\n",
    "row_labels = [label for label in \"-\"+seq1]\n",
    "column_labels = [label for label in \"-\"+seq2]\n",
    "\n",
    "print(\"Scoring array:\")\n",
    "display(pretty_table_from_array(scoring_array,row_labels,column_labels))\n",
    "print(\"Traceback array:\")\n",
    "display(pretty_table_from_array(traceback_array,row_labels,column_labels))\n",
    "\n"
   ],
   "metadata": {
    "collapsed": false,
    "pycharm": {
     "name": "#%%\n"
    }
   }
  },
  {
   "cell_type": "code",
   "execution_count": null,
   "outputs": [],
   "source": [
    "count = 0\n",
    "for row_index in range(n_rows):\n",
    "    for col_index in range(n_columns):\n",
    "        scoring_array[row_index,col_index] = count\n",
    "        count += 1\n",
    "\n",
    "display(pretty_table_from_array(scoring_array,row_labels,column_labels))"
   ],
   "metadata": {
    "collapsed": false,
    "pycharm": {
     "name": "#%%\n"
    }
   }
  },
  {
   "cell_type": "code",
   "execution_count": null,
   "outputs": [],
   "source": [
    "\n",
    "\n",
    "up_arrow = \"\\u2191\"\n",
    "right_arrow = \"\\u2192\"\n",
    "down_arrow = \"\\u2193\"\n",
    "left_arrow = \"\\u2190\"\n",
    "down_right_arrow = \"\\u2198\"\n",
    "up_left_arrow = \"\\u2196\"\n",
    "\n",
    "print(\"Up arrow\",up_arrow)\n",
    "print(\"Left arrow\",left_arrow)\n",
    "print(\"Up Left arrow\",up_left_arrow)\n",
    "\n"
   ],
   "metadata": {
    "collapsed": false,
    "pycharm": {
     "name": "#%%\n"
    }
   }
  },
  {
   "cell_type": "code",
   "execution_count": null,
   "outputs": [],
   "source": [
    "#build an array of zeroes\n",
    "n_rows = len(seq1) + 1 #need an extra row up top\n",
    "n_columns = len(seq2) + 1 #need an extra column on the left\n",
    "row_labels = [label for label in \"-\"+seq1]\n",
    "column_labels = [label for label in \"-\"+seq2]\n",
    "\n",
    "\n",
    "scoring_array = full([n_rows,n_columns],0)\n",
    "traceback_array = full([n_rows,n_columns],\"-\")\n",
    "\n",
    "\n",
    "#Define Unicode arrows we'll use in the traceback array\n",
    "up_arrow = \"\\u2191\"\n",
    "right_arrow = \"\\u2192\"\n",
    "down_arrow = \"\\u2193\"\n",
    "left_arrow = \"\\u2190\"\n",
    "down_right_arrow = \"\\u2198\"\n",
    "up_left_arrow = \"\\u2196\"\n",
    "\n",
    "arrow = \"-\"\n",
    "gap_penalty = -1\n",
    "match_bonus = 1\n",
    "mismatch_penalty = -1\n",
    "#iterate over columns first because we want to do\n",
    "# all the columns for row 1 before row 2\n",
    "for row in range(n_rows):\n",
    "    for col in range(n_columns):\n",
    "        if row == 0 and col == 0:\n",
    "            #We're in the upper right corner\n",
    "            score = 0\n",
    "            arrow = \"-\"\n",
    "        elif row == 0:\n",
    "            #We're on the first row\n",
    "            #but NOT in the corner\n",
    "\n",
    "            #Look up the score of the previous cell (to the left) in the score array\\\n",
    "            previous_score = scoring_array[row,col - 1]\n",
    "            # add the gap penalty to it's score\n",
    "            score = previous_score + gap_penalty\n",
    "            arrow = left_arrow\n",
    "        elif col == 0:\n",
    "            #We're on the first column but not in the first row\n",
    "            previous_score = scoring_array[row -1,col]\n",
    "            score = previous_score + gap_penalty\n",
    "            arrow = up_arrow\n",
    "        else:\n",
    "            #We're in a 'middle' cell of the alignment\n",
    "\n",
    "            #Calculate the scores for coming from above,\n",
    "            #from the left, (representing an insertion into seq1)\n",
    "            cell_to_the_left = scoring_array[row,col-1]\n",
    "            from_left_score = cell_to_the_left + gap_penalty\n",
    "\n",
    "            #or from above (representing an insertion into seq2)\n",
    "            above_cell = scoring_array[row-1,col]\n",
    "            from_above_score = above_cell + gap_penalty\n",
    "\n",
    "            #diagonal cell, representing a substitution (e.g. A --> T)\n",
    "            diagonal_left_cell = scoring_array[row-1,col-1]\n",
    "\n",
    "            #NOTE: since the table has an extra row and column (the blank ones),\n",
    "            #when indexing back to the sequence we want row -1 and col - 1.\n",
    "            #since row 1 represents character 0 of the sequence.\n",
    "            if seq1[row-1] == seq2[col-1]:\n",
    "                diagonal_left_cell_score = diagonal_left_cell + match_bonus\n",
    "            else:\n",
    "                diagonal_left_cell_score = diagonal_left_cell + mismatch_penalty\n",
    "\n",
    "            score = max([from_left_score,from_above_score,diagonal_left_cell_score])\n",
    "            #take the max\n",
    "\n",
    "            #make note of which cell was the max in the traceback array\n",
    "            #using Unicode arrows\n",
    "            if score == from_left_score:\n",
    "                arrow = left_arrow\n",
    "            elif score == from_above_score:\n",
    "                arrow = up_arrow\n",
    "            elif score == diagonal_left_cell_score:\n",
    "                arrow = up_left_arrow\n",
    "\n",
    "        traceback_array[row,col]=arrow\n",
    "        scoring_array[row,col] = score\n",
    "\n",
    "display(pretty_table_from_array(scoring_array,row_labels,column_labels))\n",
    "display(pretty_table_from_array(traceback_array,row_labels,column_labels))"
   ],
   "metadata": {
    "collapsed": false,
    "pycharm": {
     "name": "#%%\n"
    }
   }
  },
  {
   "cell_type": "code",
   "execution_count": null,
   "outputs": [],
   "source": [
    "def traceback_alignment(traceback_array,seq1,seq2,up_arrow = \"\\u2191\" ,\\\n",
    "                        left_arrow=\"\\u2190\",up_left_arrow=\"\\u2196\",stop=\"-\"):\n",
    "    \"\"\"Align seq1 and seq2 using the traceback matrix and return as two strings\n",
    "\n",
    "    traceback_array -- a numpy array with arrow characters indicating the direction from\n",
    "    which the best path to a given alignment position originated\n",
    "\n",
    "    seq1 - a sequence represented as a string\n",
    "    seq2 - a sequence represented as a string\n",
    "    up_arrow - the unicode used for the up arrows (there are several arrow symbols in Unicode)\n",
    "    left_arrow - the unicode used for the left arrows\n",
    "    up_left_arrow - the unicode used for the diagonal arrows\n",
    "    stop - the symbol used in the upper left to indicate the end of the alignment\n",
    "    \"\"\"\n",
    "\n",
    "    n_rows = len(seq1) + 1 #need an extra row up top\n",
    "    n_columns = len(seq2) + 1 #need an extra row up top\n",
    "\n",
    "    row = len(seq1)\n",
    "    col = len(seq2)\n",
    "    arrow = traceback_array[row,col]\n",
    "    aligned_seq1 = \"\"\n",
    "    aligned_seq2 = \"\"\n",
    "    alignment_indicator = \"\"\n",
    "    while arrow is not \"-\":\n",
    "        print(\"Currently on row:\",row)\n",
    "        print(\"Currently on col:\",col)\n",
    "        arrow = traceback_array[row,col]\n",
    "        print(\"Arrow:\",arrow)\n",
    "\n",
    "        if arrow == up_arrow:\n",
    "            print(\"insert indel into top sequence\")\n",
    "            #We want to add the new indel onto the left\n",
    "            #side of the growing aligned sequence\n",
    "            aligned_seq2 = \"-\"+aligned_seq2\n",
    "            aligned_seq1 = seq1[row-1] + aligned_seq1\n",
    "            alignment_indicator = \" \"+alignment_indicator\n",
    "            row -=1\n",
    "\n",
    "        elif arrow == up_left_arrow:\n",
    "            print(\"match or mismatch\")\n",
    "            #Note that we look up the row-1 and col-1 indexes\n",
    "            #because there is an extra \"-\" character at the\n",
    "            #start of each sequence\n",
    "            seq1_character = seq1[row-1]\n",
    "            seq2_character = seq2[col-1]\n",
    "            aligned_seq1 = seq1[row-1] + aligned_seq1\n",
    "            aligned_seq2 = seq2[col-1] + aligned_seq2\n",
    "            if seq1_character == seq2_character:\n",
    "                alignment_indicator = \"|\"+alignment_indicator\n",
    "            else:\n",
    "                alignment_indicator = \" \"+alignment_indicator\n",
    "            row -=1\n",
    "            col -=1\n",
    "\n",
    "        elif arrow == left_arrow:\n",
    "            print(\"Insert indel into left sequence\")\n",
    "            aligned_seq1 = \"-\"+aligned_seq1\n",
    "            aligned_seq2 = seq2[col-1] + aligned_seq2\n",
    "            alignment_indicator = \" \"+alignment_indicator\n",
    "            col -=1\n",
    "\n",
    "        elif arrow == stop:\n",
    "            break\n",
    "        else:\n",
    "            raise ValueError(f\"Traceback array entry at {row},{col}: {arrow} is not recognized as an up arrow ({up_arrow}),left_arrow ({left_arrow}), up_left_arrow ({up_left_arrow}), or a stop ({stop}).\")\n",
    "        #print(traceback_array,-row,-col,traceback_array[-row,-col])\n",
    "        print(aligned_seq1)\n",
    "        print(alignment_indicator)\n",
    "        print(aligned_seq2)\n",
    "\n",
    "    return aligned_seq1,aligned_seq2\n",
    "traceback_alignment(traceback_array,seq1,seq2)"
   ],
   "metadata": {
    "collapsed": false,
    "pycharm": {
     "name": "#%%\n"
    }
   }
  },
  {
   "cell_type": "code",
   "execution_count": null,
   "outputs": [],
   "source": [
    "#Build a dict to assign each nucleotide one row or column\n",
    "#index in the table\n",
    "nucleotides = \"AGCT\"\n",
    "\n",
    "#Step through each nucleotide and give it a row and column index\n",
    "#using a dictionary with keys = nucleotides and values = indices\n",
    "nucleotide_indices = {nucleotide:i for i,nucleotide in enumerate(nucleotides)}\n",
    "\n",
    "#Set up scores\n",
    "match_score = 1\n",
    "#We want separate scores for substitutions that are\n",
    "#transitions or transversions\n",
    "transversion_score = -2\n",
    "transition_score = -1\n",
    "\n",
    "# Set up a scoring_matrix for each possible substitution\n",
    "scoring_matrix = full([len(nucleotides),len(nucleotides)],transition_score)\n",
    "\n",
    "#Fill in the scoring matrix based on whether the new vs. old nucleotide are in the\n",
    "#same chemical class (e.g. both purines)\n",
    "chemical_class = {\"A\":\"Purine\",\"T\":\"Pyrimidine\",\"C\":\"Pyrimidine\",\"G\":\"Purine\"}\n",
    "for nt1 in nucleotides:\n",
    "    for nt2 in nucleotides:\n",
    "        #Look up which row/column the\n",
    "        #nucleotides are in\n",
    "        nt1_index = nucleotide_indices[nt1]\n",
    "        nt2_index = nucleotide_indices[nt2]\n",
    "        if nt1 == nt2:\n",
    "            #The nucleotides match\n",
    "            scoring_matrix[nt1_index][nt2_index] = match_score\n",
    "            #We can skip further analysis of this pair...\n",
    "            #We alredy know they match\n",
    "            continue\n",
    "\n",
    "        nt1_chemical_class = chemical_class[nt1]\n",
    "        nt2_chemical_class = chemical_class[nt2]\n",
    "\n",
    "        if nt1_chemical_class == nt2_chemical_class:\n",
    "            #The nucleotides are both pyrimidines or\n",
    "            #both purines so this is a transition\n",
    "            scoring_matrix[nt1_index][nt2_index] = transition_score\n",
    "        else:\n",
    "            #They are in different chemical classes,\n",
    "            #so this change is a transversion\n",
    "            scoring_matrix[nt1_index][nt2_index] = transversion_score\n",
    "\n",
    "\n",
    "#Show the scoring matrix\n",
    "display(pretty_table_from_array(scoring_matrix,\\\n",
    "        row_labels =[n for n in nucleotides],\\\n",
    "        col_labels = [n for n in nucleotides]))"
   ],
   "metadata": {
    "collapsed": false,
    "pycharm": {
     "name": "#%%\n"
    }
   }
  },
  {
   "cell_type": "code",
   "execution_count": null,
   "outputs": [],
   "source": [
    "def score_match(nt1,nt2,scoring_matrix,\\\n",
    "  scoring_matrix_indices={'A': 0, 'G': 1, 'C': 2, 'T': 3}):\n",
    "    \"\"\"Return the score for a substitution between nt1 and nt2 based on the scoring matrix\n",
    "    nt1 -- a string representing the first nucleotide\n",
    "    nt2 -- a string representing the second nucleotide\n",
    "    scoring_matrix -- an N x N numpy array, where N is\n",
    "      the number of nucleotides (so usually 4x4)\n",
    "    scoring_matrix_indices -- a dict mapping rows and columns\n",
    "      of the scoring array to nucleotides\n",
    "\n",
    "    \"\"\"\n",
    "    return scoring_matrix[scoring_matrix_indices[nt1],scoring_matrix_indices[nt2]]"
   ],
   "metadata": {
    "collapsed": false,
    "pycharm": {
     "name": "#%%\n"
    }
   }
  },
  {
   "cell_type": "code",
   "execution_count": null,
   "outputs": [],
   "source": [
    "\n",
    "\n",
    "AG_score = score_match(\"A\",\"G\",scoring_matrix,nucleotide_indices)\n",
    "AT_score = score_match(\"A\",\"T\",scoring_matrix,nucleotide_indices)\n",
    "print(f\"A --> G score:{AG_score}\")\n",
    "print(f\"A --> T score:{AT_score}\")\n",
    "\n"
   ],
   "metadata": {
    "collapsed": false,
    "pycharm": {
     "name": "#%%\n"
    }
   }
  },
  {
   "cell_type": "code",
   "execution_count": 50,
   "outputs": [
    {
     "data": {
      "text/plain": "<IPython.core.display.HTML object>",
      "text/html": "<table border=\"1\" class=\"dataframe\">\n  <thead>\n    <tr style=\"text-align: right;\">\n      <th></th>\n      <th>-</th>\n      <th>G</th>\n      <th>G</th>\n      <th>A</th>\n      <th>A</th>\n      <th>T</th>\n      <th>C</th>\n    </tr>\n  </thead>\n  <tbody>\n    <tr>\n      <th>-</th>\n      <td>0</td>\n      <td>-1</td>\n      <td>-2</td>\n      <td>-3</td>\n      <td>-4</td>\n      <td>-5</td>\n      <td>-6</td>\n    </tr>\n    <tr>\n      <th>A</th>\n      <td>-1</td>\n      <td>-1</td>\n      <td>-2</td>\n      <td>-1</td>\n      <td>-2</td>\n      <td>-3</td>\n      <td>-4</td>\n    </tr>\n    <tr>\n      <th>A</th>\n      <td>-2</td>\n      <td>-2</td>\n      <td>-2</td>\n      <td>-1</td>\n      <td>0</td>\n      <td>-1</td>\n      <td>-2</td>\n    </tr>\n    <tr>\n      <th>A</th>\n      <td>-3</td>\n      <td>-3</td>\n      <td>-3</td>\n      <td>-1</td>\n      <td>0</td>\n      <td>-1</td>\n      <td>-2</td>\n    </tr>\n    <tr>\n      <th>T</th>\n      <td>-4</td>\n      <td>-4</td>\n      <td>-4</td>\n      <td>-2</td>\n      <td>-1</td>\n      <td>1</td>\n      <td>0</td>\n    </tr>\n    <tr>\n      <th>A</th>\n      <td>-5</td>\n      <td>-5</td>\n      <td>-5</td>\n      <td>-3</td>\n      <td>-1</td>\n      <td>0</td>\n      <td>-1</td>\n    </tr>\n  </tbody>\n</table>"
     },
     "metadata": {},
     "output_type": "display_data"
    },
    {
     "data": {
      "text/plain": "<IPython.core.display.HTML object>",
      "text/html": "<table border=\"1\" class=\"dataframe\">\n  <thead>\n    <tr style=\"text-align: right;\">\n      <th></th>\n      <th>-</th>\n      <th>G</th>\n      <th>G</th>\n      <th>A</th>\n      <th>A</th>\n      <th>T</th>\n      <th>C</th>\n    </tr>\n  </thead>\n  <tbody>\n    <tr>\n      <th>-</th>\n      <td>-</td>\n      <td>-</td>\n      <td>-</td>\n      <td>-</td>\n      <td>-</td>\n      <td>-</td>\n      <td>-</td>\n    </tr>\n    <tr>\n      <th>A</th>\n      <td>-</td>\n      <td>↖</td>\n      <td>←</td>\n      <td>↖</td>\n      <td>←</td>\n      <td>←</td>\n      <td>←</td>\n    </tr>\n    <tr>\n      <th>A</th>\n      <td>←</td>\n      <td>↑</td>\n      <td>↖</td>\n      <td>↖</td>\n      <td>↖</td>\n      <td>←</td>\n      <td>←</td>\n    </tr>\n    <tr>\n      <th>A</th>\n      <td>←</td>\n      <td>↑</td>\n      <td>↑</td>\n      <td>↖</td>\n      <td>↖</td>\n      <td>←</td>\n      <td>←</td>\n    </tr>\n    <tr>\n      <th>T</th>\n      <td>←</td>\n      <td>↑</td>\n      <td>↑</td>\n      <td>↑</td>\n      <td>↑</td>\n      <td>↖</td>\n      <td>←</td>\n    </tr>\n    <tr>\n      <th>A</th>\n      <td>←</td>\n      <td>↑</td>\n      <td>↑</td>\n      <td>↑</td>\n      <td>↖</td>\n      <td>↑</td>\n      <td>←</td>\n    </tr>\n  </tbody>\n</table>"
     },
     "metadata": {},
     "output_type": "display_data"
    }
   ],
   "source": [
    "def needleman_wunsch(seq1,seq2, scoring_matrix,\\\n",
    "  scoring_matrix_indices={\"A\":0,\"G\":0,\"G\":0,\"C\":0},\\\n",
    "  scoring_function=score_match, gap_penalty=-1):\n",
    "    \"\"\"Perform Needleman Wunsch global alignment on two sequences\n",
    "    seq1 -- a sequence as a string\n",
    "    seq2 -- a sequence as a string\n",
    "    gap_function -- a function that takes no parameters and returns the score for a gap\n",
    "    scoring_function -- a function that takes two nucleotides and returns a score\n",
    "\n",
    "    \"\"\"\n",
    "    #build an array of zeroes\n",
    "    n_rows = len(seq1) + 1 #need an extra row up top\n",
    "    n_columns = len(seq2) + 1 #need an extra column on the left\n",
    "    scoring_array = full([n_rows,n_columns],0)\n",
    "    traceback_array = full([n_rows,n_columns],\"-\")\n",
    "\n",
    "\n",
    "    #Define Unicode arrows we'll use in the traceback array\n",
    "    up_arrow = \"\\u2191\"\n",
    "    right_arrow = \"\\u2192\"\n",
    "    down_arrow = \"\\u2193\"\n",
    "    left_arrow = \"\\u2190\"\n",
    "    down_right_arrow = \"\\u2198\"\n",
    "    up_left_arrow = \"\\u2196\"\n",
    "\n",
    "    arrow = \"-\"\n",
    "\n",
    "    #iterate over columns first because we want to do\n",
    "    # all the columns for row 1 before row 2\n",
    "    for row in range(n_rows):\n",
    "        for col in range(n_columns):\n",
    "            if row == 0 and col == 0:\n",
    "                #We're in the upper right corner\n",
    "                score = 0\n",
    "            elif row == 0:\n",
    "                #We're on the first row\n",
    "                #but NOT in the corner\n",
    "\n",
    "                #Look up the score of the previous cell (to the left) in the score array\\\n",
    "                previous_score = scoring_array[row,col - 1]\n",
    "                # add the gap penalty to it's score\n",
    "                score = previous_score + gap_penalty\n",
    "            elif col == 0:\n",
    "                #We're on the first column but not in the first row\n",
    "                previous_score = scoring_array[row -1,col]\n",
    "                score = previous_score + gap_penalty\n",
    "            else:\n",
    "                #We're in a 'middle' cell of the alignment\n",
    "\n",
    "                #Calculate the scores for coming from above,\n",
    "                #from the left, (representing an insertion into seq1)\n",
    "                cell_to_the_left = scoring_array[row,col-1]\n",
    "                from_left_score = cell_to_the_left + gap_penalty\n",
    "\n",
    "                #or from above (representing an insertion into seq2)\n",
    "                above_cell = scoring_array[row-1,col]\n",
    "                from_above_score = above_cell + gap_penalty\n",
    "\n",
    "                #diagonal cell, representing a substitution (e.g. A --> T)\n",
    "\n",
    "                diagonal_left_cell = scoring_array[row-1,col-1]\n",
    "\n",
    "                #Since the table has an extra row and column (the blank ones),\n",
    "                #when indexing back to the sequence we want row -1 and col - 1.\n",
    "                #since row 1 represents character 0 of the sequence.\n",
    "                curr_nt_seq1 = seq1[row-1]\n",
    "                curr_nt_seq2 = seq2[col-1]\n",
    "\n",
    "                #the scoring matrix will tell us the score for matches,\n",
    "                #transitions and transversions\n",
    "                diagonal_left_cell_score = diagonal_left_cell + \\\n",
    "                  score_match(curr_nt_seq1,curr_nt_seq2,scoring_matrix)\n",
    "                score = max([from_left_score,from_above_score,diagonal_left_cell_score])\n",
    "                #take the max\n",
    "                #make note of which cell was the max in the traceback array\n",
    "                #using Unicode arrows\n",
    "                if score == from_left_score:\n",
    "                    arrow = left_arrow\n",
    "                elif score == from_above_score:\n",
    "                    arrow = up_arrow\n",
    "                elif score == diagonal_left_cell_score:\n",
    "                    arrow = up_left_arrow\n",
    "\n",
    "            traceback_array[row,col]=arrow\n",
    "            scoring_array[row,col] = score\n",
    "    return scoring_array,traceback_array\n",
    "\n",
    "seq1 = \"AAATA\"\n",
    "seq2 = \"GGAATC\"\n",
    "# seq1 = \"GCATGCT\"\n",
    "# seq2 = \"GATACCA\"\n",
    "row_labels = [label for label in \"-\"+seq1]\n",
    "column_labels = [label for label in \"-\"+seq2]\n",
    "gap_penalty = -1\n",
    "match_bonus = 1\n",
    "mismatch_penalty = -1\n",
    "\n",
    "scoring_array,traceback_array = needleman_wunsch(seq1, seq2,scoring_matrix)\n",
    "display(pretty_table_from_array(scoring_array,row_labels,column_labels))\n",
    "display(pretty_table_from_array(traceback_array,row_labels,column_labels))"
   ],
   "metadata": {
    "collapsed": false,
    "pycharm": {
     "name": "#%%\n"
    }
   }
  },
  {
   "cell_type": "code",
   "execution_count": null,
   "outputs": [],
   "source": [
    "traceback_alignment(traceback_array,seq1,seq2)"
   ],
   "metadata": {
    "collapsed": false,
    "pycharm": {
     "name": "#%%\n"
    }
   }
  },
  {
   "cell_type": "code",
   "execution_count": null,
   "outputs": [],
   "source": [],
   "metadata": {
    "collapsed": false,
    "pycharm": {
     "name": "#%%\n"
    }
   }
  }
 ],
 "metadata": {
  "kernelspec": {
   "display_name": "Python 3",
   "language": "python",
   "name": "python3"
  },
  "language_info": {
   "codemirror_mode": {
    "name": "ipython",
    "version": 2
   },
   "file_extension": ".py",
   "mimetype": "text/x-python",
   "name": "python",
   "nbconvert_exporter": "python",
   "pygments_lexer": "ipython2",
   "version": "2.7.6"
  }
 },
 "nbformat": 4,
 "nbformat_minor": 0
}