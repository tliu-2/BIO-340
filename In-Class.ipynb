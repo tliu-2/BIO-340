{
 "cells": [
  {
   "cell_type": "code",
   "execution_count": null,
   "metadata": {
    "collapsed": true,
    "pycharm": {
     "name": "#%%\n"
    }
   },
   "outputs": [],
   "source": [
    "taxonomy_string = \"Bacteria;Proteobacteria;Gammaproteobacteria\"\n",
    "taxonomy_list = taxonomy_string.split(sep=\";\")\n",
    "print(taxonomy_list)"
   ]
  },
  {
   "cell_type": "code",
   "execution_count": null,
   "outputs": [],
   "source": [
    "taxonomy_list[0]"
   ],
   "metadata": {
    "collapsed": false,
    "pycharm": {
     "name": "#%%\n"
    }
   }
  },
  {
   "cell_type": "code",
   "execution_count": null,
   "outputs": [],
   "source": [
    "f = open(\"C:/Users/TNYae/Desktop/BIO-340/test.ffn\")\n",
    "\n",
    "parsed_seqs = {}\n",
    "curr_seq_id = None\n",
    "curr_seq = []\n",
    "for line in f:\n",
    "    line = line.strip()\n",
    "    if line.startswith('>'):\n",
    "        if curr_seq_id is not None:\n",
    "            parsed_seqs[curr_seq_id] = ''.join(curr_seq)\n",
    "        curr_seq_id = line[1:]\n",
    "        curr_seq = []\n",
    "        continue\n",
    "    curr_seq.append(line)\n",
    "\n",
    "parsed_seqs[curr_seq_id] = ''.join(curr_seq)\n",
    "print(parsed_seqs)\n",
    "\n",
    "dinucleotides = ['AT', 'AA', 'AC', 'AG',\n",
    "                 'TT', 'TA', 'TC', 'TG',\n",
    "                 'GT', 'GA', 'GC', 'GG', 'CT', 'CA', 'CC', 'CG']\n",
    "\n",
    "for key, value in parsed_seqs.items():\n",
    "    print(f'Current Seq: {key} \\n')\n",
    "    for x in dinucleotides:\n",
    "        print(f'{x} Content: {value.count(x.lower())}')\n",
    "    print()"
   ],
   "metadata": {
    "collapsed": false,
    "pycharm": {
     "name": "#%%\n"
    }
   }
  },
  {
   "cell_type": "code",
   "execution_count": 13,
   "outputs": [
    {
     "name": "stdout",
     "output_type": "stream",
     "text": [
      "                                 OLS Regression Results                                \n",
      "=======================================================================================\n",
      "Dep. Variable:                      y   R-squared (uncentered):                   0.001\n",
      "Model:                            OLS   Adj. R-squared (uncentered):             -0.019\n",
      "Method:                 Least Squares   F-statistic:                            0.06099\n",
      "Date:                Mon, 15 Aug 2022   Prob (F-statistic):                       0.806\n",
      "Time:                        11:52:36   Log-Likelihood:                         -272.80\n",
      "No. Observations:                  50   AIC:                                      547.6\n",
      "Df Residuals:                      49   BIC:                                      549.5\n",
      "Df Model:                           1                                                  \n",
      "Covariance Type:            nonrobust                                                  \n",
      "==============================================================================\n",
      "                 coef    std err          t      P>|t|      [0.025      0.975]\n",
      "------------------------------------------------------------------------------\n",
      "x1             0.0703      0.285      0.247      0.806      -0.502       0.642\n",
      "==============================================================================\n",
      "Omnibus:                        7.727   Durbin-Watson:                   2.393\n",
      "Prob(Omnibus):                  0.021   Jarque-Bera (JB):                2.594\n",
      "Skew:                          -0.123   Prob(JB):                        0.273\n",
      "Kurtosis:                       1.912   Cond. No.                         1.00\n",
      "==============================================================================\n",
      "\n",
      "Notes:\n",
      "[1] R² is computed without centering (uncentered) since the model does not contain a constant.\n",
      "[2] Standard Errors assume that the covariance matrix of the errors is correctly specified.\n"
     ]
    },
    {
     "data": {
      "text/plain": "<Figure size 432x288 with 1 Axes>",
      "image/png": "[encoded data removed]"
     },
     "metadata": {
      "needs_background": "light"
     },
     "output_type": "display_data"
    }
   ],
   "source": [
    "import pandas as pd\n",
    "import statsmodels.api as sm\n",
    "import statsmodels.formula.api as smf\n",
    "import seaborn as sns\n",
    "from random import randint\n",
    "\n",
    "x = list(range(0,50,1))\n",
    "y = []\n",
    "for i in range(50):\n",
    "    y.append(randint(-100,100))\n",
    "sns.scatterplot(x=x, y=y)\n",
    "model = sm.OLS(y, x).fit()\n",
    "predictions = model.predict(x)\n",
    "model_sum = model.summary()\n",
    "print(model_sum)\n"
   ],
   "metadata": {
    "collapsed": false,
    "pycharm": {
     "name": "#%%\n"
    }
   }
  },
  {
   "cell_type": "code",
   "execution_count": 23,
   "outputs": [
    {
     "name": "stdout",
     "output_type": "stream",
     "text": [
      "2\n"
     ]
    }
   ],
   "source": [
    "from scipy.stats import pearsonr\n",
    "def get_random_data(n_obs, min_x=0, max_x=100, min_y=0, max_y=100):\n",
    "    x_vals = []\n",
    "    y_vals = []\n",
    "    for obs in range(n_obs):\n",
    "        x = randint(min_x, max_x)\n",
    "        y = randint(min_y, max_y)\n",
    "\n",
    "        x_vals.append(x)\n",
    "        y_vals.append(y)\n",
    "    return x_vals, y_vals\n",
    "\n",
    "\n",
    "reps = 100\n",
    "n_data_points = 20\n",
    "significant_count = 0\n",
    "for i in range(reps):\n",
    "    x_values, y_values = get_random_data(n_data_points)\n",
    "    r,p = pearsonr(x_values, y_values)\n",
    "    if p < 0.05:\n",
    "        significant_count = significant_count + 1\n",
    "\n",
    "print(significant_count)"
   ],
   "metadata": {
    "collapsed": false,
    "pycharm": {
     "name": "#%%\n"
    }
   }
  }
 ],
 "metadata": {
  "kernelspec": {
   "display_name": "Python 3",
   "language": "python",
   "name": "python3"
  },
  "language_info": {
   "codemirror_mode": {
    "name": "ipython",
    "version": 2
   },
   "file_extension": ".py",
   "mimetype": "text/x-python",
   "name": "python",
   "nbconvert_exporter": "python",
   "pygments_lexer": "ipython2",
   "version": "2.7.6"
  }
 },
 "nbformat": 4,
 "nbformat_minor": 0
}