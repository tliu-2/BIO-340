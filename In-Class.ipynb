{
 "cells": [
  {
   "cell_type": "code",
   "execution_count": null,
   "metadata": {
    "collapsed": true,
    "pycharm": {
     "name": "#%%\n"
    }
   },
   "outputs": [],
   "source": [
    "taxonomy_string = \"Bacteria;Proteobacteria;Gammaproteobacteria\"\n",
    "taxonomy_list = taxonomy_string.split(sep=\";\")\n",
    "print(taxonomy_list)"
   ]
  },
  {
   "cell_type": "code",
   "execution_count": null,
   "outputs": [],
   "source": [
    "taxonomy_list[0]"
   ],
   "metadata": {
    "collapsed": false,
    "pycharm": {
     "name": "#%%\n"
    }
   }
  },
  {
   "cell_type": "code",
   "execution_count": null,
   "outputs": [],
   "source": [
    "f = open(\"C:/Users/TNYae/Desktop/BIO-340/test.ffn\")\n",
    "\n",
    "parsed_seqs = {}\n",
    "curr_seq_id = None\n",
    "curr_seq = []\n",
    "for line in f:\n",
    "    line = line.strip()\n",
    "    if line.startswith('>'):\n",
    "        if curr_seq_id is not None:\n",
    "            parsed_seqs[curr_seq_id] = ''.join(curr_seq)\n",
    "        curr_seq_id = line[1:]\n",
    "        curr_seq = []\n",
    "        continue\n",
    "    curr_seq.append(line)\n",
    "\n",
    "parsed_seqs[curr_seq_id] = ''.join(curr_seq)\n",
    "print(parsed_seqs)\n",
    "\n",
    "dinucleotides = ['AT', 'AA', 'AC', 'AG',\n",
    "                 'TT', 'TA', 'TC', 'TG',\n",
    "                 'GT', 'GA', 'GC', 'GG', 'CT', 'CA', 'CC', 'CG']\n",
    "\n",
    "for key, value in parsed_seqs.items():\n",
    "    print(f'Current Seq: {key} \\n')\n",
    "    for x in dinucleotides:\n",
    "        print(f'{x} Content: {value.count(x.lower())}')\n",
    "    print()"
   ],
   "metadata": {
    "collapsed": false,
    "pycharm": {
     "name": "#%%\n"
    }
   }
  }
 ],
 "metadata": {
  "kernelspec": {
   "display_name": "Python 3",
   "language": "python",
   "name": "python3"
  },
  "language_info": {
   "codemirror_mode": {
    "name": "ipython",
    "version": 2
   },
   "file_extension": ".py",
   "mimetype": "text/x-python",
   "name": "python",
   "nbconvert_exporter": "python",
   "pygments_lexer": "ipython2",
   "version": "2.7.6"
  }
 },
 "nbformat": 4,
 "nbformat_minor": 0
}