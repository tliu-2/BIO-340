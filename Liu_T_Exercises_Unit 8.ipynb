{
 "cells": [
  {
   "cell_type": "code",
   "execution_count": 6,
   "metadata": {
    "collapsed": true,
    "pycharm": {
     "name": "#%%\n"
    }
   },
   "outputs": [
    {
     "data": {
      "text/plain": "1.0"
     },
     "execution_count": 6,
     "metadata": {},
     "output_type": "execute_result"
    }
   ],
   "source": [
    "from random import choice\n",
    "from random import shuffle\n",
    "\n",
    "n_trials = 100000\n",
    "hand_size = 5\n",
    "n_aces_needed = 3\n",
    "\n",
    "def simulate_draw(deck,n_cards):\n",
    "    \"\"\"Shuffle deck and return a hand of n cards\n",
    "    n_cards --  the number of cards to draw as an int\n",
    "    deck -- a list of cards (note deck will be shuffled in place)\n",
    "    \"\"\"\n",
    "    shuffle(deck)\n",
    "    hand = deck[:hand_size]\n",
    "    return hand\n",
    "\n",
    "def test_for_cards(hand,card_value = \"Ace\",n_needed=3):\n",
    "    \"\"\"Return True if enough cards are in hand, False otherwise\"\"\"\n",
    "    n_cards_of_interest = 0\n",
    "    for card_name in hand:\n",
    "        if card_value in card_name:\n",
    "            n_cards_of_interest +=1\n",
    "\n",
    "    if n_cards_of_interest >= n_needed:\n",
    "        return True\n",
    "\n",
    "    return False\n",
    "\n",
    "def monte_carlo_test(deck,card_value=\"Ace\",n_needed=3,hand_size=5,n_trials=10000):\n",
    "    \"\"\"Return the probability of drawing a certain number of a particular card from a deck\n",
    "    deck -- a deck represented by a list of python strings\n",
    "    card_value -- the name of the card we want to draw (any card with this in the name will count)\n",
    "    n_needed -- the number of the card that you have to draw in a given hand for it to count\n",
    "    hand_size -- the number of cards to draw in each hand\n",
    "    n_trials -- the number of times to run the simulation\n",
    "    \"\"\"\n",
    "    successes = 0\n",
    "    for trial in range(n_trials):\n",
    "        hand = simulate_draw(deck,n_cards=hand_size)\n",
    "        if test_for_cards(hand,card_value=card_value,n_needed=n_needed):\n",
    "            successes += 1\n",
    "\n",
    "    p = successes / n_trials\n",
    "    return p\n",
    "\n",
    "deck = [\"Ace of Spades\",\"Ace of Clubs\",\"Ace of Hearts\",\"Ace of Diamonds\"] + [\"Other Card\"] * 48\n",
    "\n",
    "# Exercise 1: Monte Carlo\n",
    "# Modify the Monte Carlo simulation of card drawing to find the chances of drawing 3 Aces in a hand of 7 cards\n",
    "monte_carlo_test(n_trials=10000,deck=deck,card_value=\"Ace\",n_needed=3, hand_size=7)\n",
    "\n",
    "# Exercise 2: Monte Carlo\n",
    "# Modify the Monte Carlo simulation of card drawing to find the chances of drawing 4 Aces in a hand of 5 cards\n",
    "# hand_size=5 is default but just explicitly stating it here\n",
    "monte_carlo_test(n_trials=10000,deck=deck,card_value=\"Ace\",n_needed=4, hand_size=5)\n",
    "\n",
    "# Exercise 3: Monte Carlo\n",
    "# Modify the Monte Carlo simulation of card drawing to find the chances of drawing no Aces in a hand of 7 cards\n",
    "monte_carlo_test(n_trials=10000,deck=deck,card_value=\"Ace\",n_needed=0, hand_size=7)"
   ]
  },
  {
   "cell_type": "code",
   "execution_count": 10,
   "outputs": [
    {
     "data": {
      "text/plain": "<AxesSubplot:>"
     },
     "execution_count": 10,
     "metadata": {},
     "output_type": "execute_result"
    },
    {
     "data": {
      "text/plain": "<Figure size 432x288 with 1 Axes>",
      "image/png": "[encoded data removed]"
     },
     "metadata": {
      "needs_background": "light"
     },
     "output_type": "display_data"
    }
   ],
   "source": [
    "%matplotlib inline\n",
    "import seaborn as sns\n",
    "import numpy as np\n",
    "\n",
    "# Exercise 1: Linear Models\n",
    "# Original Equation\n",
    "# y = β0 + β1x\n",
    "# if β0 = 3.5 and β1 = 0\n",
    "\n",
    "x = np.array(range(1,20))\n",
    "y = x * 0 + 3.5\n",
    "\n",
    "sns.lineplot(x=x,y=y)\n"
   ],
   "metadata": {
    "collapsed": false,
    "pycharm": {
     "name": "#%%\n"
    }
   }
  },
  {
   "cell_type": "code",
   "execution_count": 14,
   "outputs": [
    {
     "data": {
      "text/plain": "<AxesSubplot:>"
     },
     "execution_count": 14,
     "metadata": {},
     "output_type": "execute_result"
    },
    {
     "data": {
      "text/plain": "<Figure size 432x288 with 1 Axes>",
      "image/png": "[encoded data removed]"
     },
     "metadata": {
      "needs_background": "light"
     },
     "output_type": "display_data"
    }
   ],
   "source": [
    "from random import choice\n",
    "\n",
    "# Exercise 5: Linear Models\n",
    "# Write python code that simulates the situation in Exercise 4. Do your simulation results match your expectations?\n",
    "# In reference to exercise 4:  Imagine that you put slips of paper with the numbers 1,2,3,4, and 5 into a hat. Then you reached into the hat, drew a number and wrote it down. You then repeated this hundreds of times and summed up your result. What type of statistical distribution would you expect the results to form? Sketch or descibe how you expect the graph to look.\n",
    "\n",
    "# The graph does match my expectations as odds of pulling any number are all identical.\n",
    "n = 1000\n",
    "def simulate_pulls(n_pulls):\n",
    "    # Create dict with number as keys and number time pulled as vals\n",
    "    pull_count = {1:0, 2:0, 3:0, 4:0, 5:0}\n",
    "\n",
    "    # do n_pulls\n",
    "    for i in range(n_pulls):\n",
    "        # pull number between 1 and 5\n",
    "        pull = choice(range(1,6,1))\n",
    "        # increment pull_count\n",
    "        pull_count[pull] += 1\n",
    "    return pull_count\n",
    "\n",
    "pulls = simulate_pulls(n_pulls=n)\n",
    "dict_keys = list(pulls.keys()) # get list of dict keys\n",
    "vals = [pulls[x] for x in dict_keys] # fancy inline looping to get values associated with keys\n",
    "\n",
    "sns.barplot(x=dict_keys, y=vals)"
   ],
   "metadata": {
    "collapsed": false,
    "pycharm": {
     "name": "#%%\n"
    }
   }
  }
 ],
 "metadata": {
  "kernelspec": {
   "display_name": "Python 3",
   "language": "python",
   "name": "python3"
  },
  "language_info": {
   "codemirror_mode": {
    "name": "ipython",
    "version": 2
   },
   "file_extension": ".py",
   "mimetype": "text/x-python",
   "name": "python",
   "nbconvert_exporter": "python",
   "pygments_lexer": "ipython2",
   "version": "2.7.6"
  }
 },
 "nbformat": 4,
 "nbformat_minor": 0
}